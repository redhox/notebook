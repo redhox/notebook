{
 "cells": [
  {
   "cell_type": "markdown",
   "metadata": {},
   "source": [
    "app flask\n",
    "\n",
    "monprojet/\n",
    "    ├── static/\n",
    "    │   ├── style.css\n",
    "    │   └── script.js\n",
    "    ├── templates/\n",
    "    │   ├── base.html\n",
    "    │   └── index.html\n",
    "    ├── tests/\n",
    "    │   └── test_views.py\n",
    "    ├── connection.py\n",
    "    └── app.py"
   ]
  },
  {
   "cell_type": "markdown",
   "metadata": {},
   "source": [
    "app.py"
   ]
  },
  {
   "cell_type": "code",
   "execution_count": null,
   "metadata": {},
   "outputs": [],
   "source": [
    "from flask import Flask, render_template , request\n",
    "\n",
    "app = Flask(__name__)\n",
    "\n",
    "@app.route('/')\n",
    "def index():\n",
    "    return render_template('index.html')\n",
    "\n",
    "@app.route(\"/upload\", methods=[\"GET\",\"POST\"])\n",
    "def upload():\n",
    "    if request.method == \"POST\":\n",
    "        file = request.files[\"file\"]\n",
    "        \n",
    "        return render_template('upload.html',file=file)\n",
    "    return render_template('upload.html')\n",
    "\n",
    "if __name__ == \"__main__\":\n",
    "    app.run(debug=True)"
   ]
  },
  {
   "cell_type": "markdown",
   "metadata": {},
   "source": [
    ".env mysql"
   ]
  },
  {
   "cell_type": "code",
   "execution_count": null,
   "metadata": {},
   "outputs": [],
   "source": [
    "#database connexion\n",
    "USER_BDD=''\n",
    "PASSWORD=''\n",
    "HOST=''\n",
    "PORT=''\n",
    "DATABASE=''"
   ]
  },
  {
   "cell_type": "markdown",
   "metadata": {},
   "source": [
    "conection.py version MYSQL avec le .env\n"
   ]
  },
  {
   "cell_type": "code",
   "execution_count": null,
   "metadata": {},
   "outputs": [],
   "source": [
    "import mysql.connector as mysqlpyth\n",
    "from dotenv import load_dotenv\n",
    "import os\n",
    "\n",
    "bdd = None\n",
    "cursor = None\n",
    "\n",
    "def connexion():\n",
    "    global bdd\n",
    "    global cursor\n",
    "    load_dotenv()\n",
    "    bdd = mysqlpyth.connect(user = os.getenv('USER_BDD'),password = os.getenv('PASSWORD'),host =os.getenv('HOST'),port = os.getenv('PORT'),database = os.getenv('DATABASE'))\n",
    "    cursor = bdd.cursor()\n",
    "    return bdd, cursor\n",
    "\n",
    "def deconnexion():\n",
    "    global bdd\n",
    "    global cursor\n",
    "\n",
    "    cursor.close()\n",
    "    bdd.close()\n",
    "\n",
    "    @classmethod\n",
    "    def get_element(cls, login,passwd):\n",
    "        cls.connexion()\n",
    "        user = cls.collection.find_one({'name': login, 'password': passwd})\n",
    "        cls.deconnexion()\n",
    "        return user\n",
    "\n",
    "    @classmethod\n",
    "    def get_elements(cls):\n",
    "        cls.connexion()\n",
    "        tous = cls.collection.find()\n",
    "        cls.deconnexion()\n",
    "        return list(tous)\n",
    "\n",
    "    @classmethod\n",
    "    def set_element(cls, login, passwd):\n",
    "        cls.connexion()\n",
    "        cls.collection.insert_one({'name': login, 'password': passwd})\n",
    "        cls.deconnexion()"
   ]
  },
  {
   "cell_type": "code",
   "execution_count": null,
   "metadata": {},
   "outputs": [],
   "source": [
    "USER_BDD=\n",
    "PASSWORD=\n",
    "HOST=\n",
    "PORT=\n",
    "BDD=\n",
    "COLLECTION="
   ]
  },
  {
   "cell_type": "markdown",
   "metadata": {},
   "source": [
    "conection.py version mongodb avec le .env \n"
   ]
  },
  {
   "cell_type": "code",
   "execution_count": null,
   "metadata": {},
   "outputs": [],
   "source": [
    "from pymongo import MongoClient\n",
    "from dotenv import load_dotenv\n",
    "import os\n",
    "load_dotenv()\n",
    "\n",
    "class MongoAccess : \n",
    "    __USER = os.getenv('USER_BDD')\n",
    "    __PW = os.getenv('PASSWORD')\n",
    "    __HOST = os.getenv('HOST')\n",
    "    __PORT = os.getenv('PORT')\n",
    "    __DB_NAME = os.getenv('BDD')\n",
    "    __COLLECTION_NAME = os.getenv('COLLECTION')\n",
    "\n",
    "    @classmethod\n",
    "    def connexion(cls) :\n",
    "        cls.client = MongoClient(f\"mongodb://{cls.__USER}:{cls.__PW}@{cls.__HOST}:{cls.__PORT}\")\n",
    "        cls.db = cls.client[cls.__DB_NAME]\n",
    "        cls.collection = cls.db[cls.__COLLECTION_NAME]\n",
    "    @classmethod\n",
    "    def deconnexion(cls) :\n",
    "        cls.client.close()\n",
    "\n",
    "\n",
    "\n",
    "\n",
    "\n",
    "    @classmethod\n",
    "    def get_element(cls, login,passwd):\n",
    "        cls.connexion()\n",
    "        user = cls.collection.find_one({'name': login, 'password': passwd})\n",
    "        cls.deconnexion()\n",
    "        return user\n",
    "\n",
    "    @classmethod\n",
    "    def get_elements(cls):\n",
    "        cls.connexion()\n",
    "        tous = cls.collection.find()\n",
    "        cls.deconnexion()\n",
    "        return list(tous)\n",
    "\n",
    "    @classmethod\n",
    "    def set_element(cls, login, passwd):\n",
    "        cls.connexion()\n",
    "        cls.collection.insert_one({'name': login, 'password': passwd})\n",
    "        cls.deconnexion()"
   ]
  },
  {
   "cell_type": "markdown",
   "metadata": {},
   "source": [
    "data.py pour mongo"
   ]
  },
  {
   "cell_type": "code",
   "execution_count": null,
   "metadata": {},
   "outputs": [],
   "source": [
    "from mongo_conection import *\n",
    "class Element :\n",
    "    def __init__(self, element_lu) :\n",
    "        self.nom = element_lu[\"nom\"]\n",
    "        self.prenom = element_lu[\"prénom\"]\n",
    "    \n",
    "    def set_discipline(self, discipline):\n",
    "        self.discipline = discipline\n",
    "    \n",
    "    def set_titre(self,titre):\n",
    "        self.titre = titre\n",
    "\n",
    "    def to_json(self):\n",
    "        element_json = {\"nom\":self.nom, \"prénom\":self.prenom, \"titre\":self.titre}\n",
    "        return element_json\n",
    "\n",
    "def set_user(login, passwd):\n",
    "    bdd = MongoAccess.connexion()\n",
    "    \n",
    "    print(f'bdd={bdd}')\n",
    "    if bdd is not None:\n",
    "        \n",
    "        bdd.insertOne({'name':login,'password':passwd})\n",
    "        MongoAccess.deconnexion()\n",
    "        return \n",
    "    else:\n",
    "        print(\"ereur de conection\")\n",
    "        MongoAccess.deconnexion()\n",
    "\n",
    "        \n",
    "def get_user(login, passwd):\n",
    "    bdd = MongoAccess.connexion()\n",
    "    \n",
    "    print(f'bdd={bdd}')\n",
    "    if bdd is not None:\n",
    "        user = bdd.find_one({'username': login, 'password': passwd})\n",
    "        MongoAccess.deconnexion()\n",
    "        return user\n",
    "    else:\n",
    "        print(\"ereur de conection\")"
   ]
  }
 ],
 "metadata": {
  "language_info": {
   "name": "python"
  },
  "orig_nbformat": 4
 },
 "nbformat": 4,
 "nbformat_minor": 2
}
